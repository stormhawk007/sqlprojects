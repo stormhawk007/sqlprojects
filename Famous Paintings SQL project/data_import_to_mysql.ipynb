{
 "cells": [
  {
   "cell_type": "code",
   "execution_count": 1,
   "id": "c89c915c",
   "metadata": {},
   "outputs": [],
   "source": [
    "# Importing necessary libraries\n",
    "import pandas as pd\n",
    "import numpy as np\n",
    "import seaborn as sns\n",
    "import matplotlib.pyplot as plt\n",
    "%matplotlib inline\n",
    "\n",
    "import mysql.connector \n",
    "from sqlalchemy import create_engine"
   ]
  },
  {
   "cell_type": "code",
   "execution_count": 2,
   "id": "813e5fb9",
   "metadata": {},
   "outputs": [],
   "source": [
    "# Install mysql connector if needed\n",
    "# %pip install mysql-connector-python"
   ]
  },
  {
   "cell_type": "code",
   "execution_count": 3,
   "id": "4e796fae",
   "metadata": {},
   "outputs": [],
   "source": [
    "host = \"localhost\"\n",
    "user = \"root\"\n",
    "# password = \"1234567890\" #mac\n",
    "password = \"123456789\" #pc"
   ]
  },
  {
   "cell_type": "code",
   "execution_count": 4,
   "id": "1889415d",
   "metadata": {},
   "outputs": [],
   "source": [
    "# Creating a connection to the MySQL server\n",
    "connection = mysql.connector.connect(\n",
    "    host=host,\n",
    "    user=user,\n",
    "    password=password\n",
    ")"
   ]
  },
  {
   "cell_type": "code",
   "execution_count": 5,
   "id": "95ad2bb9",
   "metadata": {},
   "outputs": [],
   "source": [
    "# Creating a cursor to execute SQL queries\n",
    "cursor = connection.cursor()"
   ]
  },
  {
   "cell_type": "code",
   "execution_count": 6,
   "id": "93f85f5b",
   "metadata": {},
   "outputs": [
    {
     "name": "stdout",
     "output_type": "stream",
     "text": [
      "Database 'famous_paintings' created successfully.\n"
     ]
    }
   ],
   "source": [
    "db = 'famous_paintings'\n",
    "# Creating the database\n",
    "create_database_query = f\"CREATE DATABASE IF NOT EXISTS {db}\"\n",
    "cursor.execute(create_database_query)\n",
    "print(f\"Database '{db}' created successfully.\")"
   ]
  },
  {
   "cell_type": "code",
   "execution_count": 7,
   "id": "e2a7ff07",
   "metadata": {},
   "outputs": [],
   "source": [
    "# Specify the MySQL connection URL\n",
    "mysql_url = f\"mysql+mysqlconnector://{user}:{password}@{host}/{db}\"\n",
    "\n",
    "# Create a SQLAlchemy engine\n",
    "engine = create_engine(mysql_url)"
   ]
  },
  {
   "cell_type": "code",
   "execution_count": 8,
   "id": "c0c81318",
   "metadata": {},
   "outputs": [],
   "source": [
    "files = ['artist', 'canvas_size', 'image_link', 'museum_hours', 'museum', 'product_size', 'subject', 'work']"
   ]
  },
  {
   "cell_type": "code",
   "execution_count": 9,
   "id": "d0fa6799",
   "metadata": {},
   "outputs": [
    {
     "name": "stdout",
     "output_type": "stream",
     "text": [
      "Successfully created table artist\n",
      "Successfully created table canvas_size\n",
      "Successfully created table image_link\n",
      "Successfully created table museum_hours\n",
      "Successfully created table museum\n",
      "Successfully created table product_size\n",
      "Successfully created table subject\n",
      "Successfully created table work\n"
     ]
    }
   ],
   "source": [
    "for file in files:\n",
    "    df = pd.read_csv(f'{file}.csv')\n",
    "    df.to_sql(file, con=engine, if_exists='replace', index=False)\n",
    "    print(\"Successfully created table\",file)"
   ]
  },
  {
   "cell_type": "code",
   "execution_count": null,
   "id": "84251507",
   "metadata": {},
   "outputs": [],
   "source": []
  }
 ],
 "metadata": {
  "kernelspec": {
   "display_name": "Python 3 (ipykernel)",
   "language": "python",
   "name": "python3"
  },
  "language_info": {
   "codemirror_mode": {
    "name": "ipython",
    "version": 3
   },
   "file_extension": ".py",
   "mimetype": "text/x-python",
   "name": "python",
   "nbconvert_exporter": "python",
   "pygments_lexer": "ipython3",
   "version": "3.11.5"
  }
 },
 "nbformat": 4,
 "nbformat_minor": 5
}
